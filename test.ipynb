{
 "cells": [
  {
   "cell_type": "code",
   "execution_count": null,
   "metadata": {},
   "outputs": [],
   "source": [
    "import pandas as pd\n",
    "\n",
    "data = pd.read_csv(\"data/highway_map.csv\", header=None, names=[\"x\", \"y\", \"s\", \"dx\", \"dy\"], sep=' ')"
   ]
  },
  {
   "cell_type": "code",
   "execution_count": null,
   "metadata": {
    "scrolled": false
   },
   "outputs": [],
   "source": [
    "x = [776.911, 777.108, 777.303, 777.497, 777.689, 777.88, 778.07, 778.258, 778.445, 778.63, 778.814, 778.996, 779.176, 779.355, 779.532, 779.707, 779.881, 780.053, 780.223, 780.392, 780.559, 780.723, 780.886, 781.048, 781.207, 781.364, 781.52, 781.673, 781.824, 781.974, 782.121, 782.266, 782.41, 782.551, 782.689, 782.826, 782.961, 783.093, 783.223, 783.351, 783.477, 783.6, 783.721, 783.839, 783.955, 784.069, 784.18, 784.289, 784.395, 784.499, 784.6, 784.701, 784.805, 784.912, 785.02, 785.132, 785.246, 785.362, 785.481, 785.602, 785.726, 785.852, 785.98, 786.11, 786.243, 786.378, 786.515, 786.655, 786.797, 786.94, 787.086, 787.234, 787.384, 787.537, 787.691, 787.847, 788.005, 788.165, 788.327, 788.491, 788.657, 788.824, 788.994, 789.165, 789.338, 789.512, 789.689, 789.867, 790.047, 790.228, 790.411, 790.596, 790.782, 790.97, 791.159, 791.349, 791.542, 791.735, 791.93, 792.127, 792.324, ]\n",
    "y = [1135.6, 1135.6, 1135.6, 1135.6, 1135.6, 1135.6, 1135.6, 1135.6, 1135.6, 1135.6, 1135.6, 1135.6, 1135.6, 1135.6, 1135.6, 1135.6, 1135.6, 1135.6, 1135.6, 1135.6, 1135.6, 1135.6, 1135.6, 1135.6, 1135.6, 1135.6, 1135.6, 1135.6, 1135.6, 1135.6, 1135.6, 1135.6, 1135.6, 1135.6, 1135.6, 1135.59, 1135.59, 1135.59, 1135.59, 1135.59, 1135.59, 1135.59, 1135.59, 1135.58, 1135.58, 1135.58, 1135.58, 1135.58, 1135.58, 1135.57, 1135.57, 1135.57, 1135.57, 1135.56, 1135.56, 1135.56, 1135.56, 1135.55, 1135.55, 1135.55, 1135.54, 1135.54, 1135.54, 1135.53, 1135.53, 1135.53, 1135.52, 1135.52, 1135.52, 1135.51, 1135.51, 1135.51, 1135.5, 1135.5, 1135.49, 1135.49, 1135.49, 1135.48, 1135.48, 1135.48, 1135.47, 1135.47, 1135.46, 1135.46, 1135.45, 1135.45, 1135.45, 1135.44, 1135.44, 1135.43, 1135.43, 1135.42, 1135.42, 1135.41, 1135.41, 1135.4, 1135.4, 1135.4, 1135.39, 1135.39, 1135.38, ]\n"
   ]
  },
  {
   "cell_type": "code",
   "execution_count": null,
   "metadata": {},
   "outputs": [],
   "source": [
    "import numpy as np\n",
    "import matplotlib.pyplot as plt\n",
    "from matplotlib.pyplot import figure\n",
    "\n",
    "figure(figsize=(10,10))\n",
    "l1 = plt.scatter(x, y, marker='x')\n",
    "# l2 = plt.scatter(data['x'][:50], data['y'][:50], marker='o');\n",
    "plt.legend((l1, l2), ('splinepoints', 'waypoints'))\n",
    "plt.show()"
   ]
  },
  {
   "cell_type": "code",
   "execution_count": null,
   "metadata": {},
   "outputs": [],
   "source": [
    "import numpy as np\n",
    "import matplotlib.pyplot as plt\n",
    "from matplotlib.pyplot import figure\n",
    "\n",
    "figure(figsize=(10,10))\n",
    "l1 = plt.scatter(x[:25], y[:25], marker='x')\n",
    "l2 = plt.scatter(data['x'][:50], data['y'][:50], marker='o');\n",
    "plt.legend((l1, l2), ('splinepoints', 'waypoints'))\n",
    "plt.show()"
   ]
  },
  {
   "cell_type": "code",
   "execution_count": null,
   "metadata": {},
   "outputs": [],
   "source": []
  }
 ],
 "metadata": {
  "kernelspec": {
   "display_name": "Python 3",
   "language": "python",
   "name": "python3"
  },
  "language_info": {
   "codemirror_mode": {
    "name": "ipython",
    "version": 3
   },
   "file_extension": ".py",
   "mimetype": "text/x-python",
   "name": "python",
   "nbconvert_exporter": "python",
   "pygments_lexer": "ipython3",
   "version": "3.6.5"
  }
 },
 "nbformat": 4,
 "nbformat_minor": 2
}
